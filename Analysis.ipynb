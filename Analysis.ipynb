{
 "metadata": {
  "name": "",
  "signature": "sha256:cca2c7dcf3bcb34aafc27a9527bb464ee26e26515c2c3ffa3d0a5ed85742aede"
 },
 "nbformat": 3,
 "nbformat_minor": 0,
 "worksheets": [
  {
   "cells": [
    {
     "cell_type": "markdown",
     "metadata": {},
     "source": [
      "Set up `matplotlib` and `plotly`\n",
      "--------------------------------"
     ]
    },
    {
     "cell_type": "code",
     "collapsed": false,
     "input": [
      "%matplotlib inline\n",
      "import matplotlib.pyplot as plt # side-stepping mpl backend\n",
      "import matplotlib.gridspec as gridspec # subplots\n",
      "import numpy as np"
     ],
     "language": "python",
     "metadata": {},
     "outputs": [],
     "prompt_number": 2
    },
    {
     "cell_type": "code",
     "collapsed": false,
     "input": [
      "import plotly.plotly as ply\n",
      "import plotly.tools as tls\n",
      "from plotly.graph_objs import *\n",
      "ply.sign_in(\"hawk\", \"uknav5itni\")"
     ],
     "language": "python",
     "metadata": {},
     "outputs": [],
     "prompt_number": 3
    },
    {
     "cell_type": "code",
     "collapsed": false,
     "input": [
      "from pandas import read_csv"
     ],
     "language": "python",
     "metadata": {},
     "outputs": [],
     "prompt_number": 4
    },
    {
     "cell_type": "markdown",
     "metadata": {},
     "source": [
      "Part I\n",
      "======\n",
      "\n",
      "Question 1.1\n",
      "------------\n",
      "\n",
      "> If the government legitimacy is very high (close to 1), is the general population able to operate in peaceful coexistence (without cops)?"
     ]
    },
    {
     "cell_type": "code",
     "collapsed": false,
     "input": [
      "# 0.8 legitimacy\n",
      "fig1, ax = plt.subplots()\n",
      "read_csv(\"results/rebellion-150ticks-legitimacy0.8-cops0.04-people0.7-jail30.csv\").drop(['tick'], 1).plot(ax=ax, legend=False)\n",
      "ax.set_title(\"Legitimacy = 0.8\")\n",
      "\n",
      "fig = tls.mpl_to_plotly(fig1)\n",
      "fig['layout'].update(showlegend=True)\n",
      "fig.strip_style()\n",
      "ply.iplot(fig)\n"
     ],
     "language": "python",
     "metadata": {},
     "outputs": [
      {
       "html": [
        "<iframe id=\"igraph\" scrolling=\"no\" style=\"border:none;\"seamless=\"seamless\" src=\"https://plot.ly/~hawk/83.embed\" height=\"525\" width=\"100%\"></iframe>"
       ],
       "metadata": {},
       "output_type": "pyout",
       "prompt_number": 86,
       "text": [
        "<plotly.tools.PlotlyDisplay at 0x10686e8d0>"
       ]
      }
     ],
     "prompt_number": 86
    },
    {
     "cell_type": "markdown",
     "metadata": {},
     "source": [
      "With the government legitimacy high, the population is able to operate in peaceful coexistence. The result for running the program with its original parameters (.8 legitimacy) causes an increase from 985 Active People, 0 Jailed, and 135 Quiet to 134A, 844J, and 142Q. "
     ]
    },
    {
     "cell_type": "code",
     "collapsed": false,
     "input": [
      "# 0.9 legitimacy\n",
      "fig1, ax = plt.subplots()\n",
      "read_csv(\"results/rebellion-150ticks-legitimacy0.9-cops0.04-people0.7-jail30.csv\").drop(['tick'], 1).plot(ax=ax, legend=False)\n",
      "ax.set_title(\"Legitimacy = 0.9\")\n",
      "\n",
      "fig = tls.mpl_to_plotly(fig1)\n",
      "fig['layout'].update(showlegend=True)\n",
      "fig.strip_style()\n",
      "ply.iplot(fig)"
     ],
     "language": "python",
     "metadata": {},
     "outputs": [
      {
       "html": [
        "<iframe id=\"igraph\" scrolling=\"no\" style=\"border:none;\"seamless=\"seamless\" src=\"https://plot.ly/~hawk/82.embed\" height=\"525\" width=\"100%\"></iframe>"
       ],
       "metadata": {},
       "output_type": "pyout",
       "prompt_number": 85,
       "text": [
        "<plotly.tools.PlotlyDisplay at 0x106bf24a8>"
       ]
      }
     ],
     "prompt_number": 85
    },
    {
     "cell_type": "markdown",
     "metadata": {},
     "source": [
      "\n",
      "\n",
      "When the legitimacy increases to 0.9, all of the 1120 agents are quiet and none of them become active, and thus never rebel during the 150 tick timeframe. This represents a population that operates peacefully without the presence of cops in a higly legitimate government. This is shown in the following two graphs."
     ]
    },
    {
     "cell_type": "markdown",
     "metadata": {},
     "source": [
      "Question 1.2\n",
      "------------\n",
      "\n",
      "> Describe what happens in the situations of corruption by reducing the legitimacy variable?\n",
      "\n",
      "\n",
      "With the original parameter of 0.8 legitimacy an increase from 985 Active People, 0 Jailed, and 135 Quiet to 134A, 844J, and 142Q. That is an increase of -851A, 844J, and -8Q, as seen in the previous plot."
     ]
    },
    {
     "cell_type": "code",
     "collapsed": false,
     "input": [
      "# 0.7 legitimacy\n",
      "fig1, ax = plt.subplots()\n",
      "read_csv(\"results/rebellion-150ticks-legitimacy0.7-cops0.04-people0.7-jail30.csv\").drop(['tick'], 1).plot(ax=ax, legend=False)\n",
      "ax.set_title(\"Legitimacy = 0.7\")\n",
      "\n",
      "fig = tls.mpl_to_plotly(fig1)\n",
      "fig['layout'].update(showlegend=True)\n",
      "fig.strip_style()\n",
      "ply.iplot(fig)"
     ],
     "language": "python",
     "metadata": {},
     "outputs": [
      {
       "html": [
        "<iframe id=\"igraph\" scrolling=\"no\" style=\"border:none;\"seamless=\"seamless\" src=\"https://plot.ly/~hawk/81.embed\" height=\"525\" width=\"100%\"></iframe>"
       ],
       "metadata": {},
       "output_type": "pyout",
       "prompt_number": 84,
       "text": [
        "<plotly.tools.PlotlyDisplay at 0x106731a58>"
       ]
      }
     ],
     "prompt_number": 84
    },
    {
     "cell_type": "markdown",
     "metadata": {},
     "source": [
      "When the legitimacy decreased to 0.7 the numbers went from 984A, 0J, and 136Q to 148A, 843J, and 129Q. That is an increase of -836A, 843J, -7Q. Compared to the experiment using the original parameter of 0.8 legitimacy, the numbers of active, jailed, and quiet people were comparable."
     ]
    },
    {
     "cell_type": "code",
     "collapsed": false,
     "input": [
      "# 0.6 legitimacy\n",
      "fig1, ax = plt.subplots()\n",
      "read_csv(\"results/rebellion-150ticks-legitimacy0.6-cops0.04-people0.7-jail30.csv\").drop(['tick'], 1).plot(ax=ax, legend=False)\n",
      "ax.set_title(\"Legitimacy = 0.6\")\n",
      "\n",
      "fig = tls.mpl_to_plotly(fig1)\n",
      "fig['layout'].update(showlegend=True)\n",
      "fig.strip_style()\n",
      "ply.iplot(fig)"
     ],
     "language": "python",
     "metadata": {},
     "outputs": [
      {
       "html": [
        "<iframe id=\"igraph\" scrolling=\"no\" style=\"border:none;\"seamless=\"seamless\" src=\"https://plot.ly/~hawk/80.embed\" height=\"525\" width=\"100%\"></iframe>"
       ],
       "metadata": {},
       "output_type": "pyout",
       "prompt_number": 83,
       "text": [
        "<plotly.tools.PlotlyDisplay at 0x106703860>"
       ]
      }
     ],
     "prompt_number": 83
    },
    {
     "cell_type": "markdown",
     "metadata": {},
     "source": [
      "When the legitimacy decreased to 0.6 the numbers went from 951A, 0J, 169Q to 169A, 827J, and 142Q. That is an increase of -782A, 827J, -27Q. Compared to the experiment using the original parameter of 0.8 legitimacy: the numbers of active, jailed, and quiet people were different, showing that the decreased legitimacy caused fewer people to be quiet and as a result there were more people being jailed and more active people."
     ]
    },
    {
     "cell_type": "code",
     "collapsed": false,
     "input": [
      "# 0.5 legitimacy\n",
      "fig1, ax = plt.subplots()\n",
      "read_csv(\"results/rebellion-150ticks-legitimacy0.5-cops0.04-people0.7-jail30.csv\").drop(['tick'], 1).plot(ax=ax, legend=False)\n",
      "ax.set_title(\"Legitimacy = 0.5\")\n",
      "\n",
      "fig = tls.mpl_to_plotly(fig1)\n",
      "fig['layout'].update(showlegend=True)\n",
      "fig.strip_style()\n",
      "ply.iplot(fig)"
     ],
     "language": "python",
     "metadata": {},
     "outputs": [
      {
       "html": [
        "<iframe id=\"igraph\" scrolling=\"no\" style=\"border:none;\"seamless=\"seamless\" src=\"https://plot.ly/~hawk/79.embed\" height=\"525\" width=\"100%\"></iframe>"
       ],
       "metadata": {},
       "output_type": "pyout",
       "prompt_number": 82,
       "text": [
        "<plotly.tools.PlotlyDisplay at 0x107142b00>"
       ]
      }
     ],
     "prompt_number": 82
    },
    {
     "cell_type": "markdown",
     "metadata": {},
     "source": [
      "When the legitimacy decreased to 0.5 the numbers went from 930A, 0J, and 190Q to 120A, 839J, and 161Q. That is an increase of-740A, 839J, -29Q. Compared to the experiment using the original parameter of 0.8 legitimacy: The numbers of active, jailed, and quiet people there was a greater decrease in the number of quiet people and more active people."
     ]
    },
    {
     "cell_type": "markdown",
     "metadata": {},
     "source": [
      "Question 1.3\n",
      "------------\n",
      "\n",
      ">What is the effect of lessening of government oppression by reducing the number of cops?\n",
      "\n",
      "The results show that in a government with perfect legitimacy, the number of people who are quiet remains constant throughout the experiment at 1120 people. However, when the legitimacy of the government is lower the number of cops is an important regulating factor. Looking at the results for a legitimacy of 0.7 with the number of cops at 0.04, 0.02, and 0.00 there is a clear impact on the presence of cops. At 0.04, there are a total of 148A, 843J, and 129Q people at the end of the experiment, as seen in the graphs  At 0.02, there are 284A, 760J, and 76Q at the end of the experiment. Finally, at 0.00 cops, the entire population is active. This demonstrates how cops regulate the population to constrain rebellion. In a society without cops, there is no government oppression and nobody is quiet."
     ]
    },
    {
     "cell_type": "code",
     "collapsed": false,
     "input": [
      "# 0.5 legitimacy\n",
      "fig1, ax = plt.subplots()\n",
      "read_csv(\"results/rebellion-150ticks-legitimacy0.7-cops0.02-people0.7-jail30.csv\").drop(['tick'], 1).plot(ax=ax, legend=False)\n",
      "ax.set_title(\"Legitimacy = 0.7, Cops = 0.02\")\n",
      "\n",
      "fig = tls.mpl_to_plotly(fig1)\n",
      "fig['layout'].update(showlegend=True)\n",
      "fig.strip_style()\n",
      "ply.iplot(fig)"
     ],
     "language": "python",
     "metadata": {},
     "outputs": [
      {
       "html": [
        "<iframe id=\"igraph\" scrolling=\"no\" style=\"border:none;\"seamless=\"seamless\" src=\"https://plot.ly/~hawk/87.embed\" height=\"525\" width=\"100%\"></iframe>"
       ],
       "metadata": {},
       "output_type": "pyout",
       "prompt_number": 90,
       "text": [
        "<plotly.tools.PlotlyDisplay at 0x106d690f0>"
       ]
      }
     ],
     "prompt_number": 90
    },
    {
     "cell_type": "code",
     "collapsed": false,
     "input": [
      "fig1, ax = plt.subplots()\n",
      "read_csv(\"results/rebellion-150ticks-legitimacy0.7-cops0.00-people0.7-jail30.csv\").drop(['tick'], 1).plot(ax=ax, legend=False)\n",
      "ax.set_title(\"Legitimacy = 0.7, Cops = 0.00\")\n",
      "\n",
      "fig = tls.mpl_to_plotly(fig1)\n",
      "fig['layout'].update(showlegend=True)\n",
      "fig.strip_style()\n",
      "ply.iplot(fig)"
     ],
     "language": "python",
     "metadata": {},
     "outputs": [
      {
       "html": [
        "<iframe id=\"igraph\" scrolling=\"no\" style=\"border:none;\"seamless=\"seamless\" src=\"https://plot.ly/~hawk/86.embed\" height=\"525\" width=\"100%\"></iframe>"
       ],
       "metadata": {},
       "output_type": "pyout",
       "prompt_number": 89,
       "text": [
        "<plotly.tools.PlotlyDisplay at 0x106c82128>"
       ]
      }
     ],
     "prompt_number": 89
    },
    {
     "cell_type": "code",
     "collapsed": false,
     "input": [],
     "language": "python",
     "metadata": {},
     "outputs": []
    }
   ],
   "metadata": {}
  }
 ]
}