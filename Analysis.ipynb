{
 "metadata": {
  "name": "",
  "signature": "sha256:c3da39846e5f585d0491392af5ae89120780bb47207b0ced2d193c26ae493124"
 },
 "nbformat": 3,
 "nbformat_minor": 0,
 "worksheets": [
  {
   "cells": [
    {
     "cell_type": "code",
     "collapsed": false,
     "input": [
      "%matplotlib inline\n",
      "import matplotlib.pyplot as plt # side-stepping mpl backend\n",
      "import matplotlib.gridspec as gridspec # subplots\n",
      "import numpy as np"
     ],
     "language": "python",
     "metadata": {},
     "outputs": [],
     "prompt_number": 18
    },
    {
     "cell_type": "code",
     "collapsed": false,
     "input": [
      "import plotly.plotly as ply\n",
      "import plotly.tools as tls\n",
      "from plotly.graph_objs import *\n",
      "ply.sign_in(\"hawk\", \"uknav5itni\")"
     ],
     "language": "python",
     "metadata": {},
     "outputs": [],
     "prompt_number": 19
    },
    {
     "cell_type": "code",
     "collapsed": false,
     "input": [
      "from pandas import read_csv"
     ],
     "language": "python",
     "metadata": {},
     "outputs": [],
     "prompt_number": 20
    },
    {
     "cell_type": "code",
     "collapsed": false,
     "input": [
      "fig1, ax = plt.subplots()\n",
      "read_csv(\"results/rebellion-150ticks-legitimacy0.5-cops0.04-people0.7-jail30.csv\").plot(ax=ax, legend=False)\n",
      "\n",
      "fig = tls.mpl_to_plotly(fig1)\n",
      "fig['layout'].update(showlegend=True)\n",
      "fig.strip_style()\n",
      "ply.iplot(fig)"
     ],
     "language": "python",
     "metadata": {},
     "outputs": [
      {
       "html": [
        "<iframe id=\"igraph\" scrolling=\"no\" style=\"border:none;\"seamless=\"seamless\" src=\"https://plot.ly/~hawk/25.embed\" height=\"525\" width=\"100%\"></iframe>"
       ],
       "metadata": {},
       "output_type": "pyout",
       "prompt_number": 38,
       "text": [
        "<plotly.tools.PlotlyDisplay at 0x1130cec18>"
       ]
      }
     ],
     "prompt_number": 38
    },
    {
     "cell_type": "code",
     "collapsed": false,
     "input": [],
     "language": "python",
     "metadata": {},
     "outputs": []
    }
   ],
   "metadata": {}
  }
 ]
}