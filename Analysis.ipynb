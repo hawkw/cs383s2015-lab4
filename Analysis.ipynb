{
 "metadata": {
  "name": "",
  "signature": "sha256:eb614f611180f3337410242032fc0ff9c5f84e04a67c44ae6502e894b78efe6d"
 },
 "nbformat": 3,
 "nbformat_minor": 0,
 "worksheets": [
  {
   "cells": [
    {
     "cell_type": "code",
     "collapsed": false,
     "input": [
      "%matplotlib inline\n",
      "import matplotlib.pyplot as plt # side-stepping mpl backend\n",
      "import matplotlib.gridspec as gridspec # subplots\n",
      "import numpy as np"
     ],
     "language": "python",
     "metadata": {},
     "outputs": [],
     "prompt_number": 1
    },
    {
     "cell_type": "code",
     "collapsed": false,
     "input": [
      "import plotly.plotly as ply\n",
      "import plotly.tools as tls\n",
      "from plotly.graph_objs import *\n",
      "ply.sign_in(\"hawk\", \"uknav5itni\")"
     ],
     "language": "python",
     "metadata": {},
     "outputs": [],
     "prompt_number": 2
    },
    {
     "cell_type": "code",
     "collapsed": false,
     "input": [
      "from pandas import read_csv"
     ],
     "language": "python",
     "metadata": {},
     "outputs": [],
     "prompt_number": 3
    },
    {
     "cell_type": "code",
     "collapsed": false,
     "input": [
      "fig1, ax = plt.subplots()\n",
      "read_csv(\"results/rebellion-150ticks-legitimacy0.5-cops0.04-people0.7-jail30.csv\").drop(['tick'], 1).plot(ax=ax, legend=False)\n",
      "\n",
      "fig = tls.mpl_to_plotly(fig1)\n",
      "fig['layout'].update(showlegend=True)\n",
      "fig.strip_style()\n",
      "ply.iplot(fig)\n"
     ],
     "language": "python",
     "metadata": {},
     "outputs": [
      {
       "html": [
        "<iframe id=\"igraph\" scrolling=\"no\" style=\"border:none;\"seamless=\"seamless\" src=\"https://plot.ly/~hawk/26.embed\" height=\"525\" width=\"100%\"></iframe>"
       ],
       "metadata": {},
       "output_type": "pyout",
       "prompt_number": 5,
       "text": [
        "<plotly.tools.PlotlyDisplay at 0x105195668>"
       ]
      }
     ],
     "prompt_number": 5
    },
    {
     "cell_type": "code",
     "collapsed": false,
     "input": [],
     "language": "python",
     "metadata": {},
     "outputs": []
    }
   ],
   "metadata": {}
  }
 ]
}