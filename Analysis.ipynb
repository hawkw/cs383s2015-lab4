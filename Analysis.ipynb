{
 "metadata": {
  "name": "",
  "signature": "sha256:12a03cab8c8968a477539c8926a7cb09da56e61d08074cfa0719a2ba759589e7"
 },
 "nbformat": 3,
 "nbformat_minor": 0,
 "worksheets": [
  {
   "cells": [
    {
     "cell_type": "markdown",
     "metadata": {},
     "source": [
      "CMPSC383 Lab 4\n",
      "==============\n",
      "\n",
      "Lab 4 for Computer Science 383: Multi-Agent and Robotic Systems at Allegheny College. By [Hawk Weisman](https://github.com/hawkw) and [SJ Guillame](https://github.com/sjguillaume). See the associated source code and raw data for this assignment in our GitHub repository [here](https://github.com/hawkw/cs383s2015-lab4)."
     ]
    },
    {
     "cell_type": "code",
     "collapsed": false,
     "input": [
      "# First, set up Matplotlib and Plot.ly\n",
      "%matplotlib inline\n",
      "import matplotlib.pyplot as plt # side-stepping mpl backend\n",
      "import matplotlib.gridspec as gridspec # subplots\n",
      "import numpy as np"
     ],
     "language": "python",
     "metadata": {},
     "outputs": [],
     "prompt_number": 2
    },
    {
     "cell_type": "code",
     "collapsed": false,
     "input": [
      "import plotly.plotly as ply\n",
      "import plotly.tools as tls\n",
      "from plotly.graph_objs import *\n",
      "ply.sign_in(\"hawk\", \"uknav5itni\")"
     ],
     "language": "python",
     "metadata": {},
     "outputs": [],
     "prompt_number": 3
    },
    {
     "cell_type": "code",
     "collapsed": false,
     "input": [
      "from pandas import read_csv"
     ],
     "language": "python",
     "metadata": {},
     "outputs": [],
     "prompt_number": 4
    },
    {
     "cell_type": "markdown",
     "metadata": {},
     "source": [
      "Part I\n",
      "======\n",
      "\n",
      "Question 1.1\n",
      "------------\n",
      "\n",
      "> If the government legitimacy is very high (close to 1), is the general population able to operate in peaceful coexistence (without cops)?"
     ]
    },
    {
     "cell_type": "code",
     "collapsed": false,
     "input": [
      "# 0.8 legitimacy\n",
      "fig1, ax = plt.subplots()\n",
      "read_csv(\"results/rebellion-150ticks-legitimacy0.8-cops0.04-people0.7-jail30.csv\").drop(['tick'], 1).plot(ax=ax, legend=False)\n",
      "ax.set_title(\"Legitimacy = 0.8\")\n",
      "\n",
      "fig = tls.mpl_to_plotly(fig1)\n",
      "fig['layout'].update(showlegend=True)\n",
      "fig.strip_style()\n",
      "ply.iplot(fig)\n"
     ],
     "language": "python",
     "metadata": {},
     "outputs": [
      {
       "html": [
        "<iframe id=\"igraph\" scrolling=\"no\" style=\"border:none;\"seamless=\"seamless\" src=\"https://plot.ly/~hawk/83.embed\" height=\"525\" width=\"100%\"></iframe>"
       ],
       "metadata": {},
       "output_type": "pyout",
       "prompt_number": 86,
       "text": [
        "<plotly.tools.PlotlyDisplay at 0x10686e8d0>"
       ]
      }
     ],
     "prompt_number": 86
    },
    {
     "cell_type": "markdown",
     "metadata": {},
     "source": [
      "With the government legitimacy high, the population is able to operate in peaceful coexistence. The result for running the program with its original parameters (.8 legitimacy) causes an increase from 985 Active People, 0 Jailed, and 135 Quiet to 134A, 844J, and 142Q. "
     ]
    },
    {
     "cell_type": "code",
     "collapsed": false,
     "input": [
      "# 0.9 legitimacy\n",
      "fig1, ax = plt.subplots()\n",
      "read_csv(\"results/rebellion-150ticks-legitimacy0.9-cops0.04-people0.7-jail30.csv\").drop(['tick'], 1).plot(ax=ax, legend=False)\n",
      "ax.set_title(\"Legitimacy = 0.9\")\n",
      "\n",
      "fig = tls.mpl_to_plotly(fig1)\n",
      "fig['layout'].update(showlegend=True)\n",
      "fig.strip_style()\n",
      "ply.iplot(fig)"
     ],
     "language": "python",
     "metadata": {},
     "outputs": [
      {
       "html": [
        "<iframe id=\"igraph\" scrolling=\"no\" style=\"border:none;\"seamless=\"seamless\" src=\"https://plot.ly/~hawk/82.embed\" height=\"525\" width=\"100%\"></iframe>"
       ],
       "metadata": {},
       "output_type": "pyout",
       "prompt_number": 85,
       "text": [
        "<plotly.tools.PlotlyDisplay at 0x106bf24a8>"
       ]
      }
     ],
     "prompt_number": 85
    },
    {
     "cell_type": "markdown",
     "metadata": {},
     "source": [
      "\n",
      "\n",
      "When the legitimacy increases to 0.9, all of the 1120 agents are quiet and none of them become active, and thus never rebel during the 150 tick timeframe. This represents a population that operates peacefully without the presence of cops in a higly legitimate government. This is shown in the following two graphs."
     ]
    },
    {
     "cell_type": "markdown",
     "metadata": {},
     "source": [
      "Question 1.2\n",
      "------------\n",
      "\n",
      "> Describe what happens in the situations of corruption by reducing the legitimacy variable?\n",
      "\n",
      "\n",
      "With the original parameter of 0.8 legitimacy an increase from 985 Active People, 0 Jailed, and 135 Quiet to 134A, 844J, and 142Q. That is an increase of -851A, 844J, and -8Q, as seen in the previous plot."
     ]
    },
    {
     "cell_type": "code",
     "collapsed": false,
     "input": [
      "# 0.7 legitimacy\n",
      "fig1, ax = plt.subplots()\n",
      "read_csv(\"results/rebellion-150ticks-legitimacy0.7-cops0.04-people0.7-jail30.csv\").drop(['tick'], 1).plot(ax=ax, legend=False)\n",
      "ax.set_title(\"Legitimacy = 0.7\")\n",
      "\n",
      "fig = tls.mpl_to_plotly(fig1)\n",
      "fig['layout'].update(showlegend=True)\n",
      "fig.strip_style()\n",
      "ply.iplot(fig)"
     ],
     "language": "python",
     "metadata": {},
     "outputs": [
      {
       "html": [
        "<iframe id=\"igraph\" scrolling=\"no\" style=\"border:none;\"seamless=\"seamless\" src=\"https://plot.ly/~hawk/81.embed\" height=\"525\" width=\"100%\"></iframe>"
       ],
       "metadata": {},
       "output_type": "pyout",
       "prompt_number": 84,
       "text": [
        "<plotly.tools.PlotlyDisplay at 0x106731a58>"
       ]
      }
     ],
     "prompt_number": 84
    },
    {
     "cell_type": "markdown",
     "metadata": {},
     "source": [
      "When the legitimacy decreased to 0.7 the numbers went from 984A, 0J, and 136Q to 148A, 843J, and 129Q. That is an increase of -836A, 843J, -7Q. Compared to the experiment using the original parameter of 0.8 legitimacy, the numbers of active, jailed, and quiet people were comparable."
     ]
    },
    {
     "cell_type": "code",
     "collapsed": false,
     "input": [
      "# 0.6 legitimacy\n",
      "fig1, ax = plt.subplots()\n",
      "read_csv(\"results/rebellion-150ticks-legitimacy0.6-cops0.04-people0.7-jail30.csv\").drop(['tick'], 1).plot(ax=ax, legend=False)\n",
      "ax.set_title(\"Legitimacy = 0.6\")\n",
      "\n",
      "fig = tls.mpl_to_plotly(fig1)\n",
      "fig['layout'].update(showlegend=True)\n",
      "fig.strip_style()\n",
      "ply.iplot(fig)"
     ],
     "language": "python",
     "metadata": {},
     "outputs": [
      {
       "html": [
        "<iframe id=\"igraph\" scrolling=\"no\" style=\"border:none;\"seamless=\"seamless\" src=\"https://plot.ly/~hawk/80.embed\" height=\"525\" width=\"100%\"></iframe>"
       ],
       "metadata": {},
       "output_type": "pyout",
       "prompt_number": 83,
       "text": [
        "<plotly.tools.PlotlyDisplay at 0x106703860>"
       ]
      }
     ],
     "prompt_number": 83
    },
    {
     "cell_type": "markdown",
     "metadata": {},
     "source": [
      "When the legitimacy decreased to 0.6 the numbers went from 951A, 0J, 169Q to 169A, 827J, and 142Q. That is an increase of -782A, 827J, -27Q. Compared to the experiment using the original parameter of 0.8 legitimacy: the numbers of active, jailed, and quiet people were different, showing that the decreased legitimacy caused fewer people to be quiet and as a result there were more people being jailed and more active people."
     ]
    },
    {
     "cell_type": "code",
     "collapsed": false,
     "input": [
      "# 0.5 legitimacy\n",
      "fig1, ax = plt.subplots()\n",
      "read_csv(\"results/rebellion-150ticks-legitimacy0.5-cops0.04-people0.7-jail30.csv\").drop(['tick'], 1).plot(ax=ax, legend=False)\n",
      "ax.set_title(\"Legitimacy = 0.5\")\n",
      "\n",
      "fig = tls.mpl_to_plotly(fig1)\n",
      "fig['layout'].update(showlegend=True)\n",
      "fig.strip_style()\n",
      "ply.iplot(fig)"
     ],
     "language": "python",
     "metadata": {},
     "outputs": [
      {
       "html": [
        "<iframe id=\"igraph\" scrolling=\"no\" style=\"border:none;\"seamless=\"seamless\" src=\"https://plot.ly/~hawk/79.embed\" height=\"525\" width=\"100%\"></iframe>"
       ],
       "metadata": {},
       "output_type": "pyout",
       "prompt_number": 82,
       "text": [
        "<plotly.tools.PlotlyDisplay at 0x107142b00>"
       ]
      }
     ],
     "prompt_number": 82
    },
    {
     "cell_type": "markdown",
     "metadata": {},
     "source": [
      "When the legitimacy decreased to 0.5 the numbers went from 930A, 0J, and 190Q to 120A, 839J, and 161Q. That is an increase of-740A, 839J, -29Q. Compared to the experiment using the original parameter of 0.8 legitimacy: The numbers of active, jailed, and quiet people there was a greater decrease in the number of quiet people and more active people."
     ]
    },
    {
     "cell_type": "markdown",
     "metadata": {},
     "source": [
      "Question 1.3\n",
      "------------\n",
      "\n",
      ">What is the effect of lessening of government oppression by reducing the number of cops?\n",
      "\n",
      "The results show that in a government with perfect legitimacy, the number of people who are quiet remains constant throughout the experiment at 1120 people. However, when the legitimacy of the government is lower the number of cops is an important regulating factor. Looking at the results for a legitimacy of 0.7 with the number of cops at 0.04, 0.02, and 0.00 there is a clear impact on the presence of cops. At 0.04, there are a total of 148A, 843J, and 129Q people at the end of the experiment, as seen in the graphs  At 0.02, there are 284A, 760J, and 76Q at the end of the experiment. Finally, at 0.00 cops, the entire population is active. This demonstrates how cops regulate the population to constrain rebellion. In a society without cops, there is no government oppression and nobody is quiet."
     ]
    },
    {
     "cell_type": "code",
     "collapsed": false,
     "input": [
      "# 0.5 legitimacy\n",
      "fig1, ax = plt.subplots()\n",
      "read_csv(\"results/rebellion-150ticks-legitimacy0.7-cops0.02-people0.7-jail30.csv\").drop(['tick'], 1).plot(ax=ax, legend=False)\n",
      "ax.set_title(\"Legitimacy = 0.7, Cops = 0.02\")\n",
      "\n",
      "fig = tls.mpl_to_plotly(fig1)\n",
      "fig['layout'].update(showlegend=True)\n",
      "fig.strip_style()\n",
      "ply.iplot(fig)"
     ],
     "language": "python",
     "metadata": {},
     "outputs": [
      {
       "html": [
        "<iframe id=\"igraph\" scrolling=\"no\" style=\"border:none;\"seamless=\"seamless\" src=\"https://plot.ly/~hawk/87.embed\" height=\"525\" width=\"100%\"></iframe>"
       ],
       "metadata": {},
       "output_type": "pyout",
       "prompt_number": 90,
       "text": [
        "<plotly.tools.PlotlyDisplay at 0x106d690f0>"
       ]
      }
     ],
     "prompt_number": 90
    },
    {
     "cell_type": "code",
     "collapsed": false,
     "input": [
      "fig1, ax = plt.subplots()\n",
      "read_csv(\"results/rebellion-150ticks-legitimacy0.7-cops0.00-people0.7-jail30.csv\").drop(['tick'], 1).plot(ax=ax, legend=False)\n",
      "ax.set_title(\"Legitimacy = 0.7, Cops = 0.00\")\n",
      "\n",
      "fig = tls.mpl_to_plotly(fig1)\n",
      "fig['layout'].update(showlegend=True)\n",
      "fig.strip_style()\n",
      "ply.iplot(fig)"
     ],
     "language": "python",
     "metadata": {},
     "outputs": [
      {
       "html": [
        "<iframe id=\"igraph\" scrolling=\"no\" style=\"border:none;\"seamless=\"seamless\" src=\"https://plot.ly/~hawk/86.embed\" height=\"525\" width=\"100%\"></iframe>"
       ],
       "metadata": {},
       "output_type": "pyout",
       "prompt_number": 89,
       "text": [
        "<plotly.tools.PlotlyDisplay at 0x106c82128>"
       ]
      }
     ],
     "prompt_number": 89
    },
    {
     "cell_type": "markdown",
     "metadata": {},
     "source": [
      "Part II\n",
      "=======\n",
      "\n",
      "To add learning behaviour to the model, we modified the `Person` agent to learn the risk of arrest over time based on the number of nearby active people.\n",
      "\n",
      "In our implementation, every time a person chooses to rebel, the number of nearby active agents within the agent's visibility radius is recorded. If the agent rebels and is not arrested, it attaches a positive reward to that number of nearby active agents, while if it is arrested, a negative reward is attached. Then, when the agent is choosing whether or not to rebel in the future, it searches its' memory for the *K* nearest neighbors to the current number of nearby active agents and sums them, choosing to rebel if the positive reinforcement outweighs the negative reinforcement. \n",
      "\n",
      "The *K*-nearest neighbor search algorithm we implemented is presented below.\n",
      "```java\n",
      "private double kNearest(int target) {\n",
      "\t\tSet<Pair> neighbors = new HashSet<>(); // the nearest neighbors to the target value\n",
      "\n",
      "\t\tfor (int i = 0; i <= NUM_NEIGHBORS; i++) { // repeat search K times\n",
      "\t\t\tPair best = null; // current nearest neighbor\n",
      "\t\t\tInteger bestDist = null; // distance to the nearest neighbor\n",
      "            \n",
      "\t\t\tfor (Pair n : this.prevNumActive) { // for each previous observation\n",
      "\t\t\t\tif (\t// if we haven't found a best neighbor yet...\n",
      "\t\t\t\t\t\t(best == null && bestDist == null) \n",
      "\t\t\t\t\t\t// or if the current distance is smaller than the previous best\n",
      "\t\t\t\t\t\t|| ((Math.abs(target - n.getNumActive()) < bestDist)\n",
      "\t\t\t\t\t\t// and we haven't already marked this item as a neighbor\n",
      "\t\t\t\t\t\t&& !neighbors.contains(n))\n",
      "\t\t\t\t\t) {\n",
      "\t\t\t\t\tbest = n; // the current element is the nearest neighbor\n",
      "\t\t\t\t\tbestDist = Math.abs(target - n.getNumActive()); // update the best distance\n",
      "\t\t\t\t}\n",
      "\t\t\t}\n",
      "\t\t\tneighbors.add(best);\n",
      "\t\t}\n",
      "\t\tdouble sum = 0.0;\n",
      "\t\t// return the sum of the rewards for each neighbor\n",
      "\t\tfor (Pair n : neighbors) {\n",
      "\t\t\tsum += n.getReinforcement();\n",
      "\t\t}\n",
      "\t\treturn sum;\n",
      "\t}\n",
      "\n",
      "```\n",
      "For more information on our implementation, please consult the comments in the source code for [`Person`](https://github.com/hawkw/cs383s2015-lab4/blob/master/Rebellion/src/rebellion/Person.java).\n",
      "\n",
      "In order to demonstrate that this method works, a set of trials were run for 500 ticks, changing the visibility radius of the `Person` agents. The default simulation parameters of 0.04 cops, 0.7 people, and legitimacy 0.8 were held constant through these trials. In these runs, the `Person` agents searched for the 50 nearest neighbors to the currently observed number of active agents."
     ]
    },
    {
     "cell_type": "code",
     "collapsed": false,
     "input": [
      "fig1, ax = plt.subplots()\n",
      "read_csv(\"results/learning-500ticks-visibility2-50neighbors.csv\").drop(['tick'], 1).plot(ax=ax, legend=False)\n",
      "ax.set_title(\"Visibility = 2\")\n",
      "\n",
      "fig = tls.mpl_to_plotly(fig1)\n",
      "fig['layout'].update(showlegend=True)\n",
      "fig.strip_style()\n",
      "ply.iplot(fig)"
     ],
     "language": "python",
     "metadata": {},
     "outputs": [
      {
       "html": [
        "<iframe id=\"igraph\" scrolling=\"no\" style=\"border:none;\"seamless=\"seamless\" src=\"https://plot.ly/~hawk/89.embed\" height=\"525\" width=\"100%\"></iframe>"
       ],
       "metadata": {},
       "output_type": "pyout",
       "prompt_number": 5,
       "text": [
        "<plotly.tools.PlotlyDisplay at 0x10e4bc0f0>"
       ]
      }
     ],
     "prompt_number": 5
    },
    {
     "cell_type": "markdown",
     "metadata": {},
     "source": [
      "When the visibility radius is set to 2, patterns similar to those displayed in runs without the learning modification are observed."
     ]
    },
    {
     "cell_type": "code",
     "collapsed": false,
     "input": [
      "fig1, ax = plt.subplots()\n",
      "read_csv(\"results/learning-500ticks-visibility3-50neighbors.csv\").drop(['tick'], 1).plot(ax=ax, legend=False)\n",
      "ax.set_title(\"Visibility = 3\")\n",
      "\n",
      "fig = tls.mpl_to_plotly(fig1)\n",
      "fig['layout'].update(showlegend=True)\n",
      "fig.strip_style()\n",
      "ply.iplot(fig)"
     ],
     "language": "python",
     "metadata": {},
     "outputs": [
      {
       "html": [
        "<iframe id=\"igraph\" scrolling=\"no\" style=\"border:none;\"seamless=\"seamless\" src=\"https://plot.ly/~hawk/90.embed\" height=\"525\" width=\"100%\"></iframe>"
       ],
       "metadata": {},
       "output_type": "pyout",
       "prompt_number": 6,
       "text": [
        "<plotly.tools.PlotlyDisplay at 0x109be1f98>"
       ]
      }
     ],
     "prompt_number": 6
    },
    {
     "cell_type": "markdown",
     "metadata": {},
     "source": [
      "However, when the visibility radius is increased to three, the number of quiet agents eventually surpasses the number of active agents, showing a steady trend. This demonstrates that the `Person` agents have learned from their experiences and made a change in behavior."
     ]
    },
    {
     "cell_type": "code",
     "collapsed": false,
     "input": [
      "fig1, ax = plt.subplots()\n",
      "read_csv(\"results/learning-500ticks-visibility5-50neighbors.csv\").drop(['tick'], 1).plot(ax=ax, legend=False)\n",
      "ax.set_title(\"Visibility = 5\")\n",
      "\n",
      "fig = tls.mpl_to_plotly(fig1)\n",
      "fig['layout'].update(showlegend=True)\n",
      "fig.strip_style()\n",
      "ply.iplot(fig)"
     ],
     "language": "python",
     "metadata": {},
     "outputs": [
      {
       "html": [
        "<iframe id=\"igraph\" scrolling=\"no\" style=\"border:none;\"seamless=\"seamless\" src=\"https://plot.ly/~hawk/91.embed\" height=\"525\" width=\"100%\"></iframe>"
       ],
       "metadata": {},
       "output_type": "pyout",
       "prompt_number": 7,
       "text": [
        "<plotly.tools.PlotlyDisplay at 0x10bec2278>"
       ]
      }
     ],
     "prompt_number": 7
    },
    {
     "cell_type": "markdown",
     "metadata": {},
     "source": [
      "When the visibility radius is increased to 5, the level of jailed and quiet people show clear trends. Eventually, at 321 ticks, the number of quiet people actually surpasses the number of jailed people. This demonstrates a clear change in behaviour based on previous observation of the environment."
     ]
    },
    {
     "cell_type": "code",
     "collapsed": false,
     "input": [],
     "language": "python",
     "metadata": {},
     "outputs": []
    }
   ],
   "metadata": {}
  }
 ]
}